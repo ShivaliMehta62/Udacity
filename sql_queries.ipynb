{
 "cells": [
  {
   "cell_type": "code",
   "execution_count": null,
   "id": "528ec18a",
   "metadata": {},
   "outputs": [],
   "source": [
    "#Drop Tables"
   ]
  },
  {
   "cell_type": "code",
   "execution_count": null,
   "id": "f630de6e",
   "metadata": {},
   "outputs": [],
   "source": [
    "songplay_table_drop = \"DROP table IF EXISTS songplays\""
   ]
  },
  {
   "cell_type": "code",
   "execution_count": null,
   "id": "9cf15185",
   "metadata": {},
   "outputs": [],
   "source": [
    "user_table_drop = \"DROP table IF EXISTS users\""
   ]
  },
  {
   "cell_type": "code",
   "execution_count": null,
   "id": "70b1e30d",
   "metadata": {},
   "outputs": [],
   "source": [
    "song_table_drop = \"DROP table IF EXISTS songs\""
   ]
  },
  {
   "cell_type": "code",
   "execution_count": null,
   "id": "1d12a420",
   "metadata": {},
   "outputs": [],
   "source": [
    "artist_table_drop = \"DROP table IF EXISTS artists\""
   ]
  },
  {
   "cell_type": "code",
   "execution_count": null,
   "id": "7d8c9664",
   "metadata": {},
   "outputs": [],
   "source": [
    "time_table_drop = \"DROP table IF EXISTS time\""
   ]
  },
  {
   "cell_type": "code",
   "execution_count": null,
   "id": "d385d2bc",
   "metadata": {},
   "outputs": [],
   "source": [
    "#Create Tables"
   ]
  },
  {
   "cell_type": "code",
   "execution_count": null,
   "id": "35cbc4d9",
   "metadata": {},
   "outputs": [],
   "source": [
    "songplay_table_create =\"CREATE TABLE IF NOT EXISTS Songplays(songplay_id SERIAL PRIMARY KEY,start_time bigint NOT None,user_id int NOT None,\\\n",
    "                                                                    level varchar, song_id varchar, artist_id varchar, session_id int, \\\n",
    "                                                                    location text,user_agent text)\""
   ]
  },
  {
   "cell_type": "code",
   "execution_count": null,
   "id": "5e3c7a33",
   "metadata": {},
   "outputs": [],
   "source": [
    "user_table_create =\"CREATE TABLE IF NOT EXISTS Users(user_id int PRIMARY KEY, first_name varchar, last_name varchar, \\\n",
    "                                                                gender varchar,level varchar)\""
   ]
  },
  {
   "cell_type": "code",
   "execution_count": null,
   "id": "97ba6441",
   "metadata": {},
   "outputs": [],
   "source": [
    "song_table_create =\"CREATE TABLE IF NOT EXISTS Songs(song_id varchar PRIMARY KEY, title text, artist_id varchar, year int,\\\n",
    "                                                                    duration numeric)\\\""
   ]
  },
  {
   "cell_type": "code",
   "execution_count": null,
   "id": "3120265a",
   "metadata": {},
   "outputs": [],
   "source": [
    "artist_table_create =\"CREATE TABLE IF NOT EXISTS Artists(artist_id varchar PRIMARY KEY,name varchar, location text, \\\n",
    "                                                                    latitude decimal, longitude decimal)\""
   ]
  },
  {
   "cell_type": "code",
   "execution_count": null,
   "id": "f11921de",
   "metadata": {},
   "outputs": [],
   "source": [
    "time_table_create =\"CREATE TABLE IF NOT EXISTS Time(start_time bigint PRIMARY KEY,hour int,day int,week int,month int,year int, \\\n",
    "                                                                weekday varchar)\""
   ]
  },
  {
   "cell_type": "code",
   "execution_count": null,
   "id": "dd5f422e",
   "metadata": {},
   "outputs": [],
   "source": [
    "#Insert rows"
   ]
  },
  {
   "cell_type": "code",
   "execution_count": null,
   "id": "99335bb5",
   "metadata": {},
   "outputs": [],
   "source": [
    "songplay_table_insert=\"INSERT INTO Songplays VALUES(%s,%s,%s,%s,%s,%s,%s,%s,%s)\""
   ]
  },
  {
   "cell_type": "code",
   "execution_count": null,
   "id": "7d3d4648",
   "metadata": {},
   "outputs": [],
   "source": [
    "user_table_insert=\"INSERT INTO Users VALUES(%s,%s,%s,%s,%s)\""
   ]
  },
  {
   "cell_type": "code",
   "execution_count": null,
   "id": "3129181a",
   "metadata": {},
   "outputs": [],
   "source": [
    "song_table_insert=\"INSERT INTO Songs VALUES(%s,%s,%s,%s,%s)\""
   ]
  },
  {
   "cell_type": "code",
   "execution_count": null,
   "id": "be51c1cb",
   "metadata": {},
   "outputs": [],
   "source": [
    "artist_table_insert=\"INSERT INTO Artists VALUES(%s,%s,%s,%s,%s)\""
   ]
  },
  {
   "cell_type": "code",
   "execution_count": null,
   "id": "3828acc3",
   "metadata": {},
   "outputs": [],
   "source": [
    "time_table_insert=\"INSERT INTO Time VALUES(%s,%s,%s,%s,%s,%s,%s)\""
   ]
  },
  {
   "cell_type": "code",
   "execution_count": null,
   "id": "0b65fe13",
   "metadata": {},
   "outputs": [],
   "source": [
    "#Find Songs"
   ]
  },
  {
   "cell_type": "code",
   "execution_count": null,
   "id": "821b8dd0",
   "metadata": {},
   "outputs": [],
   "source": [
    "song_select = \"\\\"\\\"select song_id,artist_id from songs a join artists b where a.title=%s and b.name=%s \\\"\\\"\\\""
   ]
  },
  {
   "cell_type": "code",
   "execution_count": null,
   "id": "8706665a",
   "metadata": {},
   "outputs": [],
   "source": [
    "#QueryList"
   ]
  },
  {
   "cell_type": "code",
   "execution_count": null,
   "id": "6e5d6d5a",
   "metadata": {},
   "outputs": [],
   "source": [
    "create_table_queries = [songplay_table_create, user_table_create, song_table_create, artist_table_create, time_table_create]"
   ]
  },
  {
   "cell_type": "code",
   "execution_count": null,
   "id": "116f5d7f",
   "metadata": {},
   "outputs": [],
   "source": [
    "drop_table_queries = [songplay_table_drop, user_table_drop, song_table_drop, artist_table_drop, time_table_drop]"
   ]
  },
  {
   "cell_type": "code",
   "execution_count": null,
   "id": "4f40b842",
   "metadata": {},
   "outputs": [],
   "source": []
  }
 ],
 "metadata": {
  "kernelspec": {
   "display_name": "Python 3",
   "language": "python",
   "name": "python3"
  },
  "language_info": {
   "codemirror_mode": {
    "name": "ipython",
    "version": 3
   },
   "file_extension": ".py",
   "mimetype": "text/x-python",
   "name": "python",
   "nbconvert_exporter": "python",
   "pygments_lexer": "ipython3",
   "version": "3.8.8"
  }
 },
 "nbformat": 4,
 "nbformat_minor": 5
}
